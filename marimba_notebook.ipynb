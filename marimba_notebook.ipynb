{
 "cells": [
  {
   "cell_type": "code",
   "execution_count": 25,
   "metadata": {
    "autoscroll": "json-false",
    "collapsed": false,
    "ein.tags": [
     "worksheet-0"
    ],
    "slideshow": {
     "slide_type": "-"
    }
   },
   "outputs": [
    {
     "name": "stdout",
     "output_type": "stream",
     "text": [
      "The autoreload extension is already loaded. To reload it, use:\n",
      "  %reload_ext autoreload\n"
     ]
    }
   ],
   "source": [
    "%load_ext autoreload\n",
    "%autoreload 2\n",
    "\n",
    "%matplotlib inline"
   ]
  },
  {
   "cell_type": "code",
   "execution_count": 118,
   "metadata": {
    "autoscroll": "json-false",
    "collapsed": false,
    "ein.tags": [
     "worksheet-0"
    ],
    "slideshow": {
     "slide_type": "-"
    }
   },
   "outputs": [],
   "source": [
    "from marimba import *\n",
    "import librosa\n",
    "from scipy.io import wavfile\n",
    "import matplotlib.pyplot as plt"
   ]
  },
  {
   "cell_type": "code",
   "execution_count": 17,
   "metadata": {
    "autoscroll": "json-false",
    "collapsed": false,
    "ein.tags": [
     "worksheet-0"
    ],
    "slideshow": {
     "slide_type": "-"
    }
   },
   "outputs": [
    {
     "name": "stdout",
     "output_type": "stream",
     "text": [
      "samples/b5.wav 5.80439e-07\n",
      "samples/a6.wav 9.64408e-07\n",
      "samples/d4.wav 2.0362e-07\n",
      "samples/g3.wav 7.44184e-08\n",
      "samples/d6.wav 4.82159e-07\n",
      "samples/e5.wav 7.48666e-07\n",
      "samples/c7.wav 1.41118e-06\n",
      "samples/c3.wav 3.25691e-07\n",
      "samples/c5.wav 2.68845e-07\n",
      "samples/e3.wav 2.80599e-07\n",
      "samples/f4.wav 5.58765e-08\n",
      "samples/a4.wav 2.95948e-07\n",
      "samples/g5.wav 1.01144e-06\n",
      "samples/f2.wav 5.8216e-07\n",
      "samples/f6.wav 6.01114e-07\n",
      "samples/b3.wav 1.29288e-07\n",
      "samples/a2.wav 4.61247e-07\n"
     ]
    }
   ],
   "source": [
    "samples = load_samples()"
   ]
  },
  {
   "cell_type": "code",
   "execution_count": 18,
   "metadata": {
    "autoscroll": "json-false",
    "collapsed": false,
    "ein.tags": [
     "worksheet-0"
    ],
    "slideshow": {
     "slide_type": "-"
    }
   },
   "outputs": [
    {
     "name": "stdout",
     "output_type": "stream",
     "text": [
      "88\n",
      "89 88 1.05946309436 52974\n",
      "89\n",
      "90\n",
      "89 90 0.943874312682 47194\n",
      "91\n",
      "89 91 0.89089871814 44545\n",
      "92\n",
      "93 92 1.05946309436 52974\n",
      "93\n",
      "94\n",
      "93 94 0.943874312682 47194\n",
      "95\n",
      "96 95 1.05946309436 52974\n"
     ]
    },
    {
     "name": "stdout",
     "output_type": "stream",
     "text": [
      "78\n",
      "79 78 1.05946309436 52974\n",
      "79\n",
      "80\n",
      "79 80 0.943874312682 47194\n",
      "81\n",
      "79 81 0.89089871814 44545\n",
      "82\n",
      "83 82 1.05946309436 52974\n",
      "83\n",
      "84\n",
      "83 84 0.943874312682 47194\n",
      "85\n",
      "86 85 1.05946309436 52974\n",
      "86\n",
      "87\n",
      "86 87 0.943874312682 47194\n"
     ]
    },
    {
     "name": "stdout",
     "output_type": "stream",
     "text": [
      "67\n",
      "65 67 0.89089871814 44545\n",
      "68\n",
      "69 68 1.05946309436 52974\n",
      "69\n",
      "70\n",
      "69 70 0.943874312682 47194\n",
      "71\n",
      "72 71 1.05946309436 52974\n",
      "72\n",
      "73\n",
      "72 73 0.943874312682 47194\n",
      "74\n",
      "72 74 0.89089871814 44545\n",
      "75\n",
      "76 75 1.05946309436 52974\n",
      "76\n",
      "77\n",
      "76 77 0.943874312682 47194\n"
     ]
    },
    {
     "name": "stdout",
     "output_type": "stream",
     "text": [
      "57\n",
      "55 57 0.89089871814 44545\n",
      "58\n",
      "59 58 1.05946309436 52974\n",
      "59\n",
      "60\n",
      "59 60 0.943874312682 47194\n",
      "61\n",
      "62 61 1.05946309436 52974\n",
      "62\n",
      "63\n",
      "62 63 0.943874312682 47194\n",
      "64\n",
      "65 64 1.05946309436 52974\n",
      "65\n",
      "66\n",
      "65 66 0.943874312682 47194\n"
     ]
    },
    {
     "name": "stdout",
     "output_type": "stream",
     "text": [
      "47\n",
      "48 47 1.05946309436 52974\n",
      "48\n",
      "49\n",
      "48 49 0.943874312682 47194\n",
      "50\n",
      "48 50 0.89089871814 44545\n",
      "51\n",
      "52 51 1.05946309436 52974\n",
      "52\n",
      "53\n",
      "52 53 0.943874312682 47194\n",
      "54\n",
      "55 54 1.05946309436 52974\n",
      "55\n",
      "56\n",
      "55 56 0.943874312682 47194\n"
     ]
    },
    {
     "name": "stdout",
     "output_type": "stream",
     "text": [
      "36\n",
      "41 36 1.33483985417 66742\n",
      "37\n",
      "41 37 1.25992104989 62997\n",
      "38\n",
      "41 38 1.189207115 59461\n",
      "39\n",
      "41 39 1.12246204831 56124\n",
      "40\n",
      "41 40 1.05946309436 52974\n",
      "41\n",
      "42\n",
      "41 42 0.943874312682 47194\n",
      "43\n",
      "41 43 0.89089871814 44545\n",
      "44\n",
      "45 44 1.05946309436 52974\n",
      "45\n",
      "46\n",
      "45 46 0.943874312682 47194\n"
     ]
    }
   ],
   "source": [
    "wavetable = make_wavetable(samples)"
   ]
  },
  {
   "cell_type": "code",
   "execution_count": 19,
   "metadata": {
    "autoscroll": "json-false",
    "collapsed": false,
    "ein.tags": [
     "worksheet-0"
    ],
    "slideshow": {
     "slide_type": "-"
    }
   },
   "outputs": [],
   "source": [
    "audio = np.zeros(50000 * len(wavetable), dtype=np.float32)\n",
    "for i in range(len(wavetable)):\n",
    "    w = wavetable[i]\n",
    "    audio[i * 50000:i * 50000 + len(w)] = w\n",
    "\n",
    "librosa.output.write_wav('test.wav', audio, sr=44100)"
   ]
  },
  {
   "cell_type": "code",
   "execution_count": 75,
   "metadata": {
    "autoscroll": "json-false",
    "collapsed": false,
    "ein.tags": [
     "worksheet-0"
    ],
    "slideshow": {
     "slide_type": "-"
    }
   },
   "outputs": [],
   "source": [
    "denis = load_denis()\n",
    "cqt = get_cqt(denis)"
   ]
  },
  {
   "cell_type": "code",
   "execution_count": 152,
   "metadata": {
    "autoscroll": "json-false",
    "collapsed": false,
    "ein.tags": [
     "worksheet-0"
    ],
    "slideshow": {
     "slide_type": "-"
    }
   },
   "outputs": [],
   "source": [
    "audio = vocal_notes(denis, cqt, wavetable)\n",
    "librosa.output.write_wav('out.wav', librosa.util.normalize(audio), sr=44100)"
   ]
  },
  {
   "cell_type": "code",
   "execution_count": 141,
   "metadata": {
    "autoscroll": "json-false",
    "collapsed": false,
    "ein.tags": [
     "worksheet-0"
    ],
    "slideshow": {
     "slide_type": "-"
    }
   },
   "outputs": [
    {
     "data": {
      "text/plain": [
       "2"
      ]
     },
     "execution_count": 141,
     "metadata": {},
     "output_type": "execute_result"
    },
    {
     "name": "stdout",
     "output_type": "stream",
     "text": [
      "[ 0.  0.  1.  0.  0.  1.  0.  0.  0.  1.  1.  0.]\n",
      "2 2\n",
      "5 5\n",
      "9 3\n",
      "10 2\n"
     ]
    }
   ],
   "source": [
    "chord = random_chord()\n",
    "print chord\n",
    "note_in_chord(chord, 0)"
   ]
  }
 ],
 "metadata": {},
 "nbformat": 4,
 "nbformat_minor": 2
}
